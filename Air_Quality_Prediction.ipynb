{
  "nbformat": 4,
  "nbformat_minor": 0,
  "metadata": {
    "colab": {
      "provenance": [],
      "toc_visible": true
    },
    "kernelspec": {
      "name": "python3",
      "display_name": "Python 3"
    },
    "language_info": {
      "name": "python"
    }
  },
  "cells": [
    {
      "cell_type": "code",
      "execution_count": 1,
      "metadata": {
        "id": "6MmqTA-6Lk5o",
        "colab": {
          "base_uri": "https://localhost:8080/"
        },
        "outputId": "e66b0421-b119-4ccc-bcd2-29dc90cbc33f"
      },
      "outputs": [
        {
          "output_type": "stream",
          "name": "stdout",
          "text": [
            "            date  location  pm2.5   pm10  temperature  predicted_aqi\n",
            "0     2023-01-01  Istanbul  29.05  58.73         15.4          40.71\n",
            "1     2023-01-01    Ankara  24.74  83.86         26.4          50.63\n",
            "2     2023-01-01     Izmir  23.90  76.91         27.8          39.67\n",
            "3     2023-01-01     Bursa  43.67  49.58         30.6          36.50\n",
            "4     2023-01-02  Istanbul  28.40  76.31         23.9          46.89\n",
            "...          ...       ...    ...    ...          ...            ...\n",
            "1455  2023-12-30     Bursa  32.45  92.85         19.0          54.18\n",
            "1456  2023-12-31  Istanbul  35.23  63.02         23.2          46.39\n",
            "1457  2023-12-31    Ankara  45.30  47.77          8.4          44.05\n",
            "1458  2023-12-31     Izmir  37.29  64.74         30.9          52.19\n",
            "1459  2023-12-31     Bursa  20.38  89.41         26.1          36.89\n",
            "\n",
            "[1460 rows x 6 columns]\n"
          ]
        }
      ],
      "source": [
        "#read csv file\n",
        "import pandas as pd\n",
        "data=pd.read_csv(\"/content/16_air_quality_prediction.csv\")\n",
        "print(data)"
      ]
    },
    {
      "cell_type": "code",
      "source": [
        "# print null values\n",
        "print(data.isnull())"
      ],
      "metadata": {
        "colab": {
          "base_uri": "https://localhost:8080/"
        },
        "id": "uoJ12qXwOAQ-",
        "outputId": "6a5f9b4b-ca1f-4d4a-f868-a41e52dac384"
      },
      "execution_count": 2,
      "outputs": [
        {
          "output_type": "stream",
          "name": "stdout",
          "text": [
            "       date  location  pm2.5   pm10  temperature  predicted_aqi\n",
            "0     False     False  False  False        False          False\n",
            "1     False     False  False  False        False          False\n",
            "2     False     False  False  False        False          False\n",
            "3     False     False  False  False        False          False\n",
            "4     False     False  False  False        False          False\n",
            "...     ...       ...    ...    ...          ...            ...\n",
            "1455  False     False  False  False        False          False\n",
            "1456  False     False  False  False        False          False\n",
            "1457  False     False  False  False        False          False\n",
            "1458  False     False  False  False        False          False\n",
            "1459  False     False  False  False        False          False\n",
            "\n",
            "[1460 rows x 6 columns]\n"
          ]
        }
      ]
    },
    {
      "cell_type": "code",
      "metadata": {
        "colab": {
          "base_uri": "https://localhost:8080/"
        },
        "id": "b31b76c2",
        "outputId": "e2d065d5-af36-4fbe-ab15-51f3a90bb987"
      },
      "source": [
        "#Encodes location\n",
        "from sklearn.preprocessing import LabelEncoder\n",
        "\n",
        "le = LabelEncoder()\n",
        "data['location_encoded'] = le.fit_transform(data['location'])\n",
        "\n",
        "print(data[['location', 'location_encoded']].head())\n",
        "print(data[['location', 'location_encoded']].tail())"
      ],
      "execution_count": 3,
      "outputs": [
        {
          "output_type": "stream",
          "name": "stdout",
          "text": [
            "   location  location_encoded\n",
            "0  Istanbul                 2\n",
            "1    Ankara                 0\n",
            "2     Izmir                 3\n",
            "3     Bursa                 1\n",
            "4  Istanbul                 2\n",
            "      location  location_encoded\n",
            "1455     Bursa                 1\n",
            "1456  Istanbul                 2\n",
            "1457    Ankara                 0\n",
            "1458     Izmir                 3\n",
            "1459     Bursa                 1\n"
          ]
        }
      ]
    },
    {
      "cell_type": "code",
      "source": [
        "#Extracts date features year, month, day, weekday.\n",
        "data['date'] = pd.to_datetime(data['date'])\n",
        "data['year'] = data['date'].dt.year\n",
        "data['month'] = data['date'].dt.month\n",
        "data['day'] = data['date'].dt.day\n",
        "data['weekday'] = data['date'].dt.weekday\n",
        "\n",
        "print(data[['date', 'year', 'month', 'day', 'weekday']].head())\n",
        "print(data[['date', 'year', 'month', 'day', 'weekday']].tail())"
      ],
      "metadata": {
        "colab": {
          "base_uri": "https://localhost:8080/"
        },
        "id": "vrhf5Us-OntD",
        "outputId": "ac2d5bf7-e634-4f73-ce0f-bafb437525b7"
      },
      "execution_count": 4,
      "outputs": [
        {
          "output_type": "stream",
          "name": "stdout",
          "text": [
            "        date  year  month  day  weekday\n",
            "0 2023-01-01  2023      1    1        6\n",
            "1 2023-01-01  2023      1    1        6\n",
            "2 2023-01-01  2023      1    1        6\n",
            "3 2023-01-01  2023      1    1        6\n",
            "4 2023-01-02  2023      1    2        0\n",
            "           date  year  month  day  weekday\n",
            "1455 2023-12-30  2023     12   30        5\n",
            "1456 2023-12-31  2023     12   31        6\n",
            "1457 2023-12-31  2023     12   31        6\n",
            "1458 2023-12-31  2023     12   31        6\n",
            "1459 2023-12-31  2023     12   31        6\n"
          ]
        }
      ]
    },
    {
      "cell_type": "code",
      "source": [
        "\n",
        "from sklearn.preprocessing import StandardScaler\n",
        "\n",
        "# Select numerical features to scale\n",
        "numerical_features = ['pm2.5', 'pm10', 'temperature', 'location_encoded', 'year', 'month', 'day', 'weekday']\n",
        "\n",
        "# Initialize StandardScaler\n",
        "scaler = StandardScaler()\n",
        "\n",
        "# Scale the numerical features\n",
        "data[numerical_features] = scaler.fit_transform(data[numerical_features])\n",
        "\n",
        "# Define features (X) and target (y)\n",
        "X = data[numerical_features]\n",
        "y = data['predicted_aqi']\n",
        "\n",
        "print(\"Scaled features (X):\")\n",
        "print(X.head())\n",
        "print(\"\\nTarget variable (y):\")\n",
        "print(y.head())"
      ],
      "metadata": {
        "colab": {
          "base_uri": "https://localhost:8080/"
        },
        "id": "XASL1L88O3rF",
        "outputId": "5e7818cc-1ca2-4098-e8df-619d66b729f1"
      },
      "execution_count": 5,
      "outputs": [
        {
          "output_type": "stream",
          "name": "stdout",
          "text": [
            "Scaled features (X):\n",
            "      pm2.5      pm10  temperature  location_encoded  year     month  \\\n",
            "0 -0.597105 -0.563904    -0.522067          0.447214   0.0 -1.602745   \n",
            "1 -1.024671  0.714391     0.724553         -1.341641   0.0 -1.602745   \n",
            "2 -1.108002  0.360863     0.883214          1.341641   0.0 -1.602745   \n",
            "3  0.853248 -1.029339     1.200535         -0.447214   0.0 -1.602745   \n",
            "4 -0.661587  0.330343     0.441230          0.447214   0.0 -1.602745   \n",
            "\n",
            "        day   weekday  \n",
            "0 -1.673503  1.493348  \n",
            "1 -1.673503  1.493348  \n",
            "2 -1.673503  1.493348  \n",
            "3 -1.673503  1.493348  \n",
            "4 -1.559818 -1.501553  \n",
            "\n",
            "Target variable (y):\n",
            "0    40.71\n",
            "1    50.63\n",
            "2    39.67\n",
            "3    36.50\n",
            "4    46.89\n",
            "Name: predicted_aqi, dtype: float64\n"
          ]
        }
      ]
    }
  ]
}